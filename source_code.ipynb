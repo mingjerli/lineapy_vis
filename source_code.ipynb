{
 "cells": [
  {
   "cell_type": "code",
   "execution_count": 1,
   "id": "a74c5e33-3618-4a1f-9dde-9c027fe5c5b7",
   "metadata": {},
   "outputs": [
    {
     "name": "stderr",
     "output_type": "stream",
     "text": [
      "/home/mingjerli/miniconda3/envs/lineapy39/lib/python3.9/site-packages/tqdm/auto.py:22: TqdmWarning: IProgress not found. Please update jupyter and ipywidgets. See https://ipywidgets.readthedocs.io/en/stable/user_install.html\n",
      "  from .autonotebook import tqdm as notebook_tqdm\n"
     ]
    }
   ],
   "source": [
    "%load_ext lineapy"
   ]
  },
  {
   "cell_type": "code",
   "execution_count": 2,
   "id": "1e4e73ac-f391-4a72-a067-8f9208f00c6d",
   "metadata": {},
   "outputs": [
    {
     "name": "stdout",
     "output_type": "stream",
     "text": [
      "   a  y\n",
      "0  0  0\n",
      "1  1  1\n",
      "2  2  2\n",
      "3  3  3\n",
      "4  4  4\n",
      "5  5  5\n",
      "6  6  6\n",
      "7  7  7\n",
      "8  8  8\n",
      "9  9  9\n"
     ]
    }
   ],
   "source": [
    "import pandas as pd\n",
    "\n",
    "nsample = 10\n",
    "raw_df = pd.DataFrame({'a':list(range(nsample)),'y':list(range(nsample))})\n",
    "print(raw_df)\n",
    "clean_df = raw_df.assign(b=raw_df.a)\n",
    "agg_df = clean_df.groupby(['a']).sum()\n",
    "summary_df = clean_df.describe()\n",
    "\n",
    "art_agg = lineapy.save(agg_df,'agg')\n",
    "art_summary = lineapy.save(summary_df,'summary')"
   ]
  },
  {
   "cell_type": "code",
   "execution_count": null,
   "id": "8ba94f67-a3af-4966-a076-36c4e9612033",
   "metadata": {},
   "outputs": [],
   "source": []
  }
 ],
 "metadata": {
  "kernelspec": {
   "display_name": "lineapy39",
   "language": "python",
   "name": "lineapy39"
  },
  "language_info": {
   "codemirror_mode": {
    "name": "ipython",
    "version": 3
   },
   "file_extension": ".py",
   "mimetype": "text/x-python",
   "name": "python",
   "nbconvert_exporter": "python",
   "pygments_lexer": "ipython3",
   "version": "3.9.12"
  }
 },
 "nbformat": 4,
 "nbformat_minor": 5
}
